{
 "cells": [
  {
   "cell_type": "code",
   "execution_count": null,
   "metadata": {},
   "outputs": [],
   "source": [
    "#This jupyter notebook can be found on google colllab in the next link \n",
    "# https://colab.research.google.com/drive/1Ty28grqGwjroq9z2snoyickKrMO_A9FI?usp=sharing\n",
    "\n",
    "print(\"~~~~~~~~~~~~~~~~~~~~Cuadrado~~~~~~~~~~~~~~~~~~~~\")\n",
    "a = int(input(\"Lado: \"))\n",
    "A = a**2\n",
    "P = 4*a\n",
    "print(\"Formula Area:  a^2,\\t Formula Perimetro: 4*a\")\n",
    "print(\"A = \", A, \"\\tP = \", P)\n",
    "#~~~~~~~~~~~~~~~~~~~~~~~~~~~~~~~~~~~~~~~~~~~~~~~~~~~~~~~~"
   ]
  },
  {
   "cell_type": "code",
   "execution_count": null,
   "metadata": {},
   "outputs": [],
   "source": [
    "print(\"~~~~~~~~~~~~~~~~~~~Triangulo~~~~~~~~~~~~~~~~~~~~\")\n",
    "h = int(input(\"Altura: \"))\n",
    "b = int(input(\"Base: \"))\n",
    "a = int(input(\"Segundo lado: \"))\n",
    "c = int(input(\"Ultimo lado: \"))\n",
    "\n",
    "A = (b*h)/2\n",
    "P = a+b+c\n",
    "print(\"Formula Area:  (b*h)/2,\\t Formula Perimetro: a+b+c\")\n",
    "print(\"A = \", A, \"\\tP = \", P)\n",
    "#~~~~~~~~~~~~~~~~~~~~~~~~~~~~~~~~~~~~~~~~~~~~~~~~~~~~~~~~\n"
   ]
  },
  {
   "cell_type": "code",
   "execution_count": null,
   "metadata": {},
   "outputs": [],
   "source": [
    "print(\"~~~~~~~~~~~~~~~~~~~Rectangulo~~~~~~~~~~~~~~~~~~~\")\n",
    "a = int(input(\"Lado: \"))\n",
    "b = int(input(\"Base: \"))\n",
    "\n",
    "A = b*a\n",
    "P = 2*(b+a)\n",
    "print(\"Formula Area:  b*a,\\t Formula Perimetro: 2*(b+a)\")\n",
    "print(\"A = \", A, \"\\tP = \", P)\n",
    "#~~~~~~~~~~~~~~~~~~~~~~~~~~~~~~~~~~~~~~~~~~~~~~~~~~~~~~~~"
   ]
  },
  {
   "cell_type": "code",
   "execution_count": null,
   "metadata": {},
   "outputs": [],
   "source": [
    "print(\"~~~~~~~~~~~~~~~~~Paralelogramo~~~~~~~~~~~~~~~~~~\")\n",
    "a = int(input(\"Lado: \"))\n",
    "b = int(input(\"Base: \"))\n",
    "h = int(input(\"Altura: \"))\n",
    "\n",
    "A = b*h\n",
    "P = 2*(b+a)\n",
    "print(\"Formula Area:  b*h,\\t Formula Perimetro: 2*(b+a)\")\n",
    "print(\"A = \", A, \"\\tP = \", P)\n",
    "#~~~~~~~~~~~~~~~~~~~~~~~~~~~~~~~~~~~~~~~~~~~~~~~~~~~~~~~~"
   ]
  },
  {
   "cell_type": "code",
   "execution_count": null,
   "metadata": {},
   "outputs": [],
   "source": [
    "print(\"\\n~~~~~~~~~~~~~~~~~~~~~Rombo~~~~~~~~~~~~~~~~~~~~~~\")\n",
    "a = int(input(\"Lado: \"))\n",
    "D = int(input(\"Diagonal mayor: \"))\n",
    "d = int(input(\"Diagonal menor: \"))\n",
    "\n",
    "A = (D*d) / 2\n",
    "P = 4*a\n",
    "print(\"Formula Area:  (D*d) / 2,\\t Formula Perimetro: 4*a\")\n",
    "print(\"A = \", A, \"\\tP = \", P)\n",
    "#~~~~~~~~~~~~~~~~~~~~~~~~~~~~~~~~~~~~~~~~~~~~~~~~~~~~~~~~"
   ]
  },
  {
   "cell_type": "code",
   "execution_count": null,
   "metadata": {},
   "outputs": [],
   "source": [
    "print(\"\\n~~~~~~~~~~~~~~~~~~~~~Cometa~~~~~~~~~~~~~~~~~~~~~\")\n",
    "a = int(input(\"Lado mayor: \"))\n",
    "b = int(input(\"Lado menor: \"))\n",
    "D = int(input(\"Diagonal mayor: \"))\n",
    "d = int(input(\"Diagonal menor: \"))\n",
    "\n",
    "A = (D*d) / 2\n",
    "P = 2*(b+a)\n",
    "print(\"Formula Area:  (D*d) / 2,\\t Formula Perimetro: 2*(b+a)\")\n",
    "print(\"A = \", A, \"\\tP = \", P)\n",
    "#~~~~~~~~~~~~~~~~~~~~~~~~~~~~~~~~~~~~~~~~~~~~~~~~~~~~~~~~"
   ]
  },
  {
   "cell_type": "code",
   "execution_count": null,
   "metadata": {},
   "outputs": [],
   "source": [
    "print(\"\\n~~~~~~~~~~~~~~~~~~~~Trapecio~~~~~~~~~~~~~~~~~~~~\")\n",
    "B = int(input(\"Base mayor: \"))\n",
    "b = int(input(\"Base menor: \"))\n",
    "a = int(input(\"Lado izquierdo: \"))\n",
    "c = int(input(\"Lado derecho: \"))\n",
    "h = int(input(\"Altura: \"))\n",
    "\n",
    "A = (h*(B+b)) / 2\n",
    "P = B + b + a + c\n",
    "print(\"Formula Area:  (h*(B+b)) / 2,\\t Formula Perimetro: B + b + a + c\")\n",
    "print(\"A = \", A, \"\\tP = \", P)\n",
    "#~~~~~~~~~~~~~~~~~~~~~~~~~~~~~~~~~~~~~~~~~~~~~~~~~~~~~~~~"
   ]
  },
  {
   "cell_type": "code",
   "execution_count": null,
   "metadata": {},
   "outputs": [],
   "source": [
    "from math import pi\n",
    "print(\"\\n~~~~~~~~~~~~~~~~~~~~Circulo~~~~~~~~~~~~~~~~~~~~~\")\n",
    "r = int(input(\"Radio: \"))\n",
    "\n",
    "A = pi * r**2\n",
    "P = 2 * pi * r\n",
    "print(\"Formula Area:  pi * r^2,\\t Formula Perimetro: 2 * pi * r\")\n",
    "print(\"A = \", A, \"\\tP = \", P)\n",
    "#~~~~~~~~~~~~~~~~~~~~~~~~~~~~~~~~~~~~~~~~~~~~~~~~~~~~~~~~"
   ]
  },
  {
   "cell_type": "code",
   "execution_count": null,
   "metadata": {},
   "outputs": [],
   "source": [
    "print(\"\\n~~~~~~~~~~~~~~~~Poligono Regular~~~~~~~~~~~~~~~~\")\n",
    "a = int(input(\"Apotema: \"))\n",
    "b = int(input(\"Base: \"))\n",
    "n = int(input(\"Numero de lados: \"))\n",
    "\n",
    "P = n * b\n",
    "A = (P*a) / 2\n",
    "print(\"Formula Area:  (P*a) / 2,\\t Formula Perimetro: n * b\")\n",
    "print(\"A = \", A, \"\\tP = \", P)\n",
    "#~~~~~~~~~~~~~~~~~~~~~~~~~~~~~~~~~~~~~~~~~~~~~~~~~~~~~~~~"
   ]
  },
  {
   "cell_type": "code",
   "execution_count": null,
   "metadata": {},
   "outputs": [],
   "source": [
    "from math import pi\n",
    "print(\"\\n~~~~~~~~~~~~~~~~Corona Circular~~~~~~~~~~~~~~~~~\")\n",
    "R = int(input(\"Radio mayor: \"))\n",
    "r = int(input(\"Radio menor: \"))\n",
    "\n",
    "A = pi*(R**2-r**2)\n",
    "print(\"Formula Area:  pi*(R^2-r^2)\")\n",
    "print(\"A = \", A)\n",
    "#~~~~~~~~~~~~~~~~~~~~~~~~~~~~~~~~~~~~~~~~~~~~~~~~~~~~~~~~"
   ]
  },
  {
   "cell_type": "code",
   "execution_count": null,
   "metadata": {},
   "outputs": [],
   "source": [
    "from math import pi\n",
    "print(\"\\n~~~~~~~~~~~~~~~~Sector Circular~~~~~~~~~~~~~~~~~\")\n",
    "R = int(input(\"Radio: \"))\n",
    "n = int(input(\"Angulo del sector: \"))\n",
    "\n",
    "A = (pi * R**2 * n) / 360\n",
    "print(\"Formula Area:  (pi * R^2 * n) / 360\")\n",
    "print(\"A = \", A)\n",
    "#~~~~~~~~~~~~~~~~~~~~~~~~~~~~~~~~~~~~~~~~~~~~~~~~~~~~~~~~"
   ]
  },
  {
   "cell_type": "code",
   "execution_count": null,
   "metadata": {},
   "outputs": [],
   "source": [
    "print(\"\\n~~~~~~~~~~~~~~~~~~~~~~Cubo~~~~~~~~~~~~~~~~~~~~~~\")\n",
    "a = int(input(\"Lado: \"))\n",
    "\n",
    "A = 6 * a**2\n",
    "V = a**3\n",
    "print(\"Formula Area:  6 * a^2,\\t Formula Volumen: a^3\")\n",
    "print(\"A = \", A, \",\\tV= \", V)\n",
    "#~~~~~~~~~~~~~~~~~~~~~~~~~~~~~~~~~~~~~~~~~~~~~~~~~~~~~~~~"
   ]
  },
  {
   "cell_type": "code",
   "execution_count": null,
   "metadata": {},
   "outputs": [],
   "source": [
    "from math import pi\n",
    "print(\"\\n~~~~~~~~~~~~~~~~~~~~Cilindro~~~~~~~~~~~~~~~~~~~~\")\n",
    "h = int(input(\"Altura: \"))\n",
    "R = int(input(\"Radio: \"))\n",
    "\n",
    "A = 2 * pi  * R(h + R)\n",
    "V = pi * R**2 * h\n",
    "print(\"Formula Area:  2 * pi  * R(h + R),\\t Formula Volumen: pi * R^2 * h\")\n",
    "print(\"A = \", A, \",\\tV= \", V)\n",
    "#~~~~~~~~~~~~~~~~~~~~~~~~~~~~~~~~~~~~~~~~~~~~~~~~~~~~~~~~"
   ]
  },
  {
   "cell_type": "code",
   "execution_count": null,
   "metadata": {},
   "outputs": [],
   "source": [
    "print(\"\\n~~~~~~~~~~~~~~~~~~~~Ortoedro~~~~~~~~~~~~~~~~~~~~\")\n",
    "a = int(input(\"Lado 1: \"))\n",
    "b = int(input(\"Lado 2: \"))\n",
    "c = int(input(\"Lado 3: \"))\n",
    "\n",
    "A = 2 * (a*b + b*c + a*c)\n",
    "V = a * b * c\n",
    "print(\"Formula Area:  2 * (a*b + b*c + a*c),\\t Formula Volumen: a * b * c\")\n",
    "print(\"A = \", A, \",\\tV= \", V)\n",
    "#~~~~~~~~~~~~~~~~~~~~~~~~~~~~~~~~~~~~~~~~~~~~~~~~~~~~~~~~"
   ]
  },
  {
   "cell_type": "code",
   "execution_count": null,
   "metadata": {},
   "outputs": [],
   "source": [
    "print(\"\\n~~~~~~~~~~~~~~~~~~Prisma Recto~~~~~~~~~~~~~~~~~~\")\n",
    "h = int(input(\"Altura: \"))\n",
    "a = int(input(\"Apotema: \"))\n",
    "Ab = int(input(\"Area Base: \"))\n",
    "n = int(input(\"Numero de lados: \"))\n",
    "\n",
    "P = n * a\n",
    "A = P * ( h + a)\n",
    "V = Ab * h\n",
    "print(\"Formula Area:  P * ( h + a),\\t Formula Volumen: Ab * h\")\n",
    "print(\"A = \", A, \",\\tV= \", P)\n",
    "#~~~~~~~~~~~~~~~~~~~~~~~~~~~~~~~~~~~~~~~~~~~~~~~~~~~~~~~~"
   ]
  },
  {
   "cell_type": "code",
   "execution_count": null,
   "metadata": {},
   "outputs": [],
   "source": [
    "from math import pi\n",
    "print(\"\\n~~~~~~~~~~~~~~~~~~~~~~Cono~~~~~~~~~~~~~~~~~~~~~~\")\n",
    "h = int(input(\"Altura: \"))\n",
    "g = int(input(\"Generatriz: \"))\n",
    "R = int(input(\"Radio Base: \"))\n",
    "\n",
    "A = pi * R * (R + g)\n",
    "V = (pi * R**2 * h) / 3\n",
    "print(\"Formula Area:  pi * R * (R + g),\\t Formula Volumen: (pi * R^2 * h) / 3\")\n",
    "print(\"A = \", A, \",\\tV= \", V)\n",
    "#~~~~~~~~~~~~~~~~~~~~~~~~~~~~~~~~~~~~~~~~~~~~~~~~~~~~~~~~"
   ]
  },
  {
   "cell_type": "code",
   "execution_count": null,
   "metadata": {},
   "outputs": [],
   "source": [
    "from math import pi\n",
    "print(\"\\n~~~~~~~~~~~~~~~~~Tronco de Cono~~~~~~~~~~~~~~~~~\")\n",
    "h = int(input(\"Altura: \"))\n",
    "g = int(input(\"Generatriz: \"))\n",
    "R = int(input(\"Radio Base Mayor: \"))\n",
    "r = int(input(\"Radio Base Menor: \"))\n",
    "\n",
    "A = pi * (g*(R+r) + r**2 + R**2)\n",
    "V = (pi * h * (R**2 + R*r + r**2)) / 3\n",
    "print(\"Formula Area:  pi * (g*(R+r) + r^2 + R^2),\\t Formula Volumen: (pi * h * (R^2 + R*r + r^2)) / 3\")\n",
    "print(\"A = \", A, \",\\tV= \", V)\n",
    "#~~~~~~~~~~~~~~~~~~~~~~~~~~~~~~~~~~~~~~~~~~~~~~~~~~~~~~~~"
   ]
  },
  {
   "cell_type": "code",
   "execution_count": null,
   "metadata": {},
   "outputs": [],
   "source": [
    "from math import pi\n",
    "print(\"\\n~~~~~~~~~~~~~~~~~~~~~Esfera~~~~~~~~~~~~~~~~~~~~~\")\n",
    "R = int(input(\"Radio: \"))\n",
    "\n",
    "A = 4 * pi * R**2\n",
    "V = (4 * pi * R**3) / 3\n",
    "print(\"Formula Area:  4 * pi * R^2,\\t Formula Volumen: (4 * pi * R^3) / 3\")\n",
    "print(\"A = \", A, \",\\tV= \", V)\n",
    "#~~~~~~~~~~~~~~~~~~~~~~~~~~~~~~~~~~~~~~~~~~~~~~~~~~~~~~~~"
   ]
  },
  {
   "cell_type": "code",
   "execution_count": null,
   "metadata": {},
   "outputs": [],
   "source": [
    "print(\"\\n~~~~~~~~~~~~~~~~~~~~Piramide~~~~~~~~~~~~~~~~~~~~\")\n",
    "h = int(input(\"Altura: \"))\n",
    "A = int(input(\"Altura de inclinacion: \"))\n",
    "a = int(input(\"Apotema: \"))\n",
    "Ab = int(input(\"Area Base: \"))\n",
    "P = int(input(\"Perimetro Base: \"))\n",
    "\n",
    "A = (P*(a+A))/2\n",
    "V = (Ab * h) / 3\n",
    "print(\"Formula Area:  (P*(a+A))/2,\\t Formula Volumen: (Ab * h) / 3\")\n",
    "print(\"A = \", A, \",\\tV= \", V)\n",
    "#~~~~~~~~~~~~~~~~~~~~~~~~~~~~~~~~~~~~~~~~~~~~~~~~~~~~~~~~"
   ]
  },
  {
   "cell_type": "code",
   "execution_count": null,
   "metadata": {},
   "outputs": [],
   "source": [
    "from math import sqrt\n",
    "print(\"\\n~~~~~~~~~~~~~~~Tetraedro Regular~~~~~~~~~~~~~~~~\")\n",
    "a = int(input(\"Lado: \"))\n",
    "\n",
    "A = (sqrt(3) * a**2)\n",
    "V = (sqrt(2) * a**3) / 12\n",
    "print(\"Formula Area:  (sqrt(3) * a^2),\\t Formula Volumen: (sqrt(2) * a^3) / 12\")\n",
    "print(\"A = \", A, \",\\tV= \", V)\n",
    "#~~~~~~~~~~~~~~~~~~~~~~~~~~~~~~~~~~~~~~~~~~~~~~~~~~~~~~~~"
   ]
  },
  {
   "cell_type": "code",
   "execution_count": null,
   "metadata": {},
   "outputs": [],
   "source": [
    "from math import sqrt\n",
    "print(\"\\n~~~~~~~~~~~~~~~~Octaedro Regular~~~~~~~~~~~~~~~~\")\n",
    "a = int(input(\"Lado: \"))\n",
    "\n",
    "A = 2 * (sqrt(3) * a**2)\n",
    "V = (sqrt(2) * a**3) / 3\n",
    "print(\"Formula Area:  2 * (sqrt(3) * a^2),\\t Formula Volumen: (sqrt(2) * a^3) / 3\")\n",
    "print(\"A = \", A, \",\\tV= \", V)\n",
    "#~~~~~~~~~~~~~~~~~~~~~~~~~~~~~~~~~~~~~~~~~~~~~~~~~~~~~~~~"
   ]
  },
  {
   "cell_type": "code",
   "execution_count": null,
   "metadata": {},
   "outputs": [],
   "source": [
    "from math import sqrt\n",
    "print(\"\\n~~~~~~~~~~~~~~~Tronco de Piramide~~~~~~~~~~~~~~~~\")\n",
    "h = int(input(\"Altura: \"))\n",
    "a = int(input(\"Apotema: \"))\n",
    "Ab = int(input(\"Area Base Mayor: \"))\n",
    "P = int(input(\"Perimetro Base Mayor: \"))\n",
    "ab = int(input(\"Area Base Menor: \"))\n",
    "p = int(input(\"Perimetro Base Menor: \"))\n",
    "A = int(input(\"Altura de inclinacion: \"))\n",
    "\n",
    "A = ((P+p)/2)*a+Ab+ab\n",
    "V = ((Ab+ab+sqrt(Ab*ab))*h)/3\n",
    "print(\"Formula Area:  ((P+p)/2)*a+Ab+ab,\\t Formula Volumen: ((Ab+ab+sqrt(Ab*ab))*h)/3\")\n",
    "print(\"A = \", A, \",\\tV= \", V)\n",
    "#~~~~~~~~~~~~~~~~~~~~~~~~~~~~~~~~~~~~~~~~~~~~~~~~~~~~~~~~"
   ]
  },
  {
   "cell_type": "code",
   "execution_count": null,
   "metadata": {},
   "outputs": [],
   "source": [
    "from math import pi\n",
    "print(\"\\n~~~~~~~~~~~~~~~Casquete Esferico~~~~~~~~~~~~~~~~\")\n",
    "R = int(input(\"Radio: \"))\n",
    "h = int(input(\"Altura: \"))\n",
    "\n",
    "A = 2 * pi * R * h\n",
    "V = (pi*h**2*((3*R-h))/3)\n",
    "print(\"Formula Area:  2 * pi * R * h,\\t Formula Volumen: (pi*h^2*((3*r-h))/3)\")\n",
    "print(\"A = \", A, \",\\tV= \", V)\n",
    "#~~~~~~~~~~~~~~~~~~~~~~~~~~~~~~~~~~~~~~~~~~~~~~~~~~~~~~~~"
   ]
  },
  {
   "cell_type": "code",
   "execution_count": null,
   "metadata": {},
   "outputs": [],
   "source": [
    "from math import pi\n",
    "print(\"\\n~~~~~~~~~~~~~~Huso: Cuña Esferica~~~~~~~~~~~~~~~\")\n",
    "R = int(input(\"Radio: \"))\n",
    "n = int(input(\"Angulo del sector: \"))\n",
    "\n",
    "A = (4*pi * R**2 * n) / 360\n",
    "V = (4*pi * R**3 * n) / (3*360)  \n",
    "print(\"Formula Area:  (4*pi * R^2 * n) / 360,\\t Formula Volumen: (4*pi * R^3 * n) / (3*360)\")\n",
    "print(\"A = \", A, \",\\tV= \", V)\n",
    "#~~~~~~~~~~~~~~~~~~~~~~~~~~~~~~~~~~~~~~~~~~~~~~~~~~~~~~~~"
   ]
  },
  {
   "cell_type": "code",
   "execution_count": null,
   "metadata": {},
   "outputs": [],
   "source": [
    "from math import pi\n",
    "print(\"\\n~~~~~~~~~~~Zona o Segmento de Esfera~~~~~~~~~~~~\")\n",
    "R = int(input(\"Radio Mayor: \"))\n",
    "r = int(input(\"Radio Menor: \"))\n",
    "h = int(input(\"Altura del segemnto: \"))\n",
    "\n",
    "A = 2 * pi * R * h\n",
    "V = ((pi*h*(h**2+3*R**2+r*3**2))/3)\n",
    "print(\"Formula Area:  2 * pi * R * h,\\t Formula Volumen: ((pi*h*(h^2+3*R^2+r*3^2))/3)\")\n",
    "print(\"A = \", A, \",\\tV= \", V)\n",
    "#~~~~~~~~~~~~~~~~~~~~~~~~~~~~~~~~~~~~~~~~~~~~~~~~~~~~~~~~"
   ]
  }
 ],
 "metadata": {
  "kernelspec": {
   "display_name": "Python 3.8.9 64-bit",
   "language": "python",
   "name": "python3"
  },
  "language_info": {
   "codemirror_mode": {
    "name": "ipython",
    "version": 3
   },
   "file_extension": ".py",
   "mimetype": "text/x-python",
   "name": "python",
   "nbconvert_exporter": "python",
   "pygments_lexer": "ipython3",
   "version": "3.8.9"
  },
  "orig_nbformat": 4,
  "vscode": {
   "interpreter": {
    "hash": "31f2aee4e71d21fbe5cf8b01ff0e069b9275f58929596ceb00d14d90e3e16cd6"
   }
  }
 },
 "nbformat": 4,
 "nbformat_minor": 2
}
